{
 "cells": [
  {
   "cell_type": "code",
   "execution_count": 1,
   "metadata": {},
   "outputs": [
    {
     "name": "stdout",
     "output_type": "stream",
     "text": [
      "Requirement already satisfied: face_recognition in /Library/Frameworks/Python.framework/Versions/3.11/lib/python3.11/site-packages (1.3.0)\n",
      "Requirement already satisfied: face-recognition-models>=0.3.0 in /Library/Frameworks/Python.framework/Versions/3.11/lib/python3.11/site-packages (from face_recognition) (0.3.0)\n",
      "Requirement already satisfied: Click>=6.0 in /Library/Frameworks/Python.framework/Versions/3.11/lib/python3.11/site-packages (from face_recognition) (8.1.7)\n",
      "Requirement already satisfied: dlib>=19.7 in /Library/Frameworks/Python.framework/Versions/3.11/lib/python3.11/site-packages (from face_recognition) (19.24.2)\n",
      "Requirement already satisfied: numpy in /Library/Frameworks/Python.framework/Versions/3.11/lib/python3.11/site-packages (from face_recognition) (1.24.1)\n",
      "Requirement already satisfied: Pillow in /Library/Frameworks/Python.framework/Versions/3.11/lib/python3.11/site-packages (from face_recognition) (9.4.0)\n",
      "\n",
      "\u001b[1m[\u001b[0m\u001b[34;49mnotice\u001b[0m\u001b[1;39;49m]\u001b[0m\u001b[39;49m A new release of pip available: \u001b[0m\u001b[31;49m22.3.1\u001b[0m\u001b[39;49m -> \u001b[0m\u001b[32;49m23.2.1\u001b[0m\n",
      "\u001b[1m[\u001b[0m\u001b[34;49mnotice\u001b[0m\u001b[1;39;49m]\u001b[0m\u001b[39;49m To update, run: \u001b[0m\u001b[32;49mpip3 install --upgrade pip\u001b[0m\n"
     ]
    }
   ],
   "source": [
    "!pip3 install face_recognition"
   ]
  },
  {
   "cell_type": "code",
   "execution_count": 7,
   "metadata": {},
   "outputs": [
    {
     "name": "stdout",
     "output_type": "stream",
     "text": [
      "Total no of videos : 2\n",
      "['//Users/nithishkumar/Documents/deepfake-video-detection-project/small dataset/deepfakes', '/Users/nithishkumar/Documents/deepfake-video-detection-project/small dataset/deepfakes']\n",
      "Number of video processed:  1  Remaining :  1\n",
      "Corrupted video is :  //Users/nithishkumar/Documents/deepfake-video-detection-project/small dataset/deepfakes\n",
      "Number of video processed:  2  Remaining :  0\n",
      "Corrupted video is :  /Users/nithishkumar/Documents/deepfake-video-detection-project/small dataset/deepfakes\n",
      "0\n"
     ]
    },
    {
     "name": "stderr",
     "output_type": "stream",
     "text": [
      "OpenCV: Couldn't read video stream from file \"//Users/nithishkumar/Documents/deepfake-video-detection-project/small dataset/deepfakes\"\n",
      "[ERROR:0@12806.972] global cap.cpp:166 open VIDEOIO(CV_IMAGES): raised OpenCV exception:\n",
      "\n",
      "OpenCV(4.8.1) /Users/xperience/GHA-OpenCV-Python/_work/opencv-python/opencv-python/opencv/modules/videoio/src/cap_images.cpp:253: error: (-5:Bad argument) CAP_IMAGES: can't find starting number (in the name of file): //Users/nithishkumar/Documents/deepfake-video-detection-project/small dataset/deepfakes in function 'icvExtractPattern'\n",
      "\n",
      "\n",
      "OpenCV: Couldn't read video stream from file \"/Users/nithishkumar/Documents/deepfake-video-detection-project/small dataset/deepfakes\"\n",
      "[ERROR:0@12807.023] global cap.cpp:166 open VIDEOIO(CV_IMAGES): raised OpenCV exception:\n",
      "\n",
      "OpenCV(4.8.1) /Users/xperience/GHA-OpenCV-Python/_work/opencv-python/opencv-python/opencv/modules/videoio/src/cap_images.cpp:253: error: (-5:Bad argument) CAP_IMAGES: can't find starting number (in the name of file): /Users/nithishkumar/Documents/deepfake-video-detection-project/small dataset/deepfakes in function 'icvExtractPattern'\n",
      "\n",
      "\n"
     ]
    }
   ],
   "source": [
    "#THis code is to check if the video is corrupted or not..\n",
    "#If the video is corrupted delete the video.\n",
    "import glob\n",
    "import torch\n",
    "import torchvision\n",
    "from torchvision import transforms\n",
    "from torch.utils.data import DataLoader\n",
    "from torch.utils.data.dataset import Dataset\n",
    "import os\n",
    "import numpy as np\n",
    "import cv2\n",
    "import matplotlib.pyplot as plt\n",
    "import face_recognition\n",
    "#Check if the file is corrupted or not\n",
    "def validate_video(vid_path,train_transforms):\n",
    "      transform = train_transforms\n",
    "      count = 20\n",
    "      video_path = vid_path\n",
    "      frames = []\n",
    "      a = int(100/count)\n",
    "      first_frame = np.random.randint(0,a)\n",
    "      temp_video = video_path.split('/')[-1]\n",
    "      for i,frame in enumerate(frame_extract(video_path)):\n",
    "        frames.append(transform(frame))\n",
    "        if(len(frames) == count):\n",
    "          break\n",
    "      frames = torch.stack(frames)\n",
    "      frames = frames[:count]\n",
    "      return frames\n",
    "#extract a from from video\n",
    "def frame_extract(path):\n",
    "  vidObj = cv2.VideoCapture(path) \n",
    "  success = 1\n",
    "  while success:\n",
    "      success, image = vidObj.read()\n",
    "      if success:\n",
    "          yield image\n",
    "\n",
    "im_size = 112\n",
    "mean = [0.485, 0.456, 0.406]\n",
    "std = [0.229, 0.224, 0.225]\n",
    "\n",
    "train_transforms = transforms.Compose([\n",
    "                                        transforms.ToPILImage(),\n",
    "                                        transforms.Resize((im_size,im_size)),\n",
    "                                        transforms.ToTensor(),\n",
    "                                        transforms.Normalize(mean,std)])\n",
    "video_fil =  glob.glob('//Users/nithishkumar/Documents/deepfake-video-detection-project/small dataset/deepfakes')\n",
    "video_fil += glob.glob('/Users/nithishkumar/Documents/deepfake-video-detection-project/small dataset/deepfakes')\n",
    "print(\"Total no of videos :\" , len(video_fil))\n",
    "print(video_fil)\n",
    "count = 0;\n",
    "for i in video_fil:\n",
    "  try:\n",
    "    count+=1\n",
    "    validate_video(i,train_transforms)\n",
    "  except:\n",
    "    print(\"Number of video processed: \" , count ,\" Remaining : \" , (len(video_fil) - count))\n",
    "    print(\"Corrupted video is : \" , i)\n",
    "    continue\n",
    "print((len(video_fil) - count))\n",
    "     "
   ]
  }
 ],
 "metadata": {
  "kernelspec": {
   "display_name": "Python 3.11.1 64-bit",
   "language": "python",
   "name": "python3"
  },
  "language_info": {
   "codemirror_mode": {
    "name": "ipython",
    "version": 3
   },
   "file_extension": ".py",
   "mimetype": "text/x-python",
   "name": "python",
   "nbconvert_exporter": "python",
   "pygments_lexer": "ipython3",
   "version": "3.11.1"
  },
  "orig_nbformat": 4,
  "vscode": {
   "interpreter": {
    "hash": "aee8b7b246df8f9039afb4144a1f6fd8d2ca17a180786b69acc140d282b71a49"
   }
  }
 },
 "nbformat": 4,
 "nbformat_minor": 2
}
